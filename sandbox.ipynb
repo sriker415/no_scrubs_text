{
 "metadata": {
  "language_info": {
   "codemirror_mode": {
    "name": "ipython",
    "version": 3
   },
   "file_extension": ".py",
   "mimetype": "text/x-python",
   "name": "python",
   "nbconvert_exporter": "python",
   "pygments_lexer": "ipython3",
   "version": "3.7.6-final"
  },
  "orig_nbformat": 2,
  "kernelspec": {
   "name": "python_defaultSpec_1609009933956",
   "display_name": "Python 3.7.6 64-bit ('anaconda3': virtualenv)"
  }
 },
 "nbformat": 4,
 "nbformat_minor": 2,
 "cells": [
  {
   "cell_type": "markdown",
   "metadata": {},
   "source": [
    "# Exporatory Text Analysis"
   ]
  },
  {
   "cell_type": "code",
   "execution_count": 94,
   "metadata": {
    "tags": []
   },
   "outputs": [],
   "source": [
    "%matplotlib inline\n",
    "\n",
    "import pandas as pd\n",
    "import numpy as np\n",
    "import emojis\n",
    "import emoji\n",
    "import regex\n",
    "import re\n",
    "import collections\n",
    "import matplotlib.pyplot as plt\n",
    "import plotly.express as px"
   ]
  },
  {
   "cell_type": "markdown",
   "metadata": {},
   "source": [
    "## Get Data"
   ]
  },
  {
   "cell_type": "code",
   "execution_count": 38,
   "metadata": {},
   "outputs": [
    {
     "output_type": "execute_result",
     "data": {
      "text/plain": "  Chat Session    message_date Deliver_date       read_date   service  \\\n0    No Scrubs  12/27/19 14:21          NaN             NaN  iMessage   \n1    No Scrubs  12/27/19 14:21          NaN             NaN  iMessage   \n2    No Scrubs  12/27/19 14:22          NaN  12/27/19 14:22  iMessage   \n3    No Scrubs  12/27/19 14:22          NaN             NaN  iMessage   \n4    No Scrubs  12/27/19 14:23          NaN  12/27/19 14:23  iMessage   \n\n       type     sender_id     sender_name status  subject  \\\n0  Outgoing           NaN             NaN   Sent      NaN   \n1  Outgoing           NaN             NaN   Sent      NaN   \n2  Incoming  1.917829e+10    Melissa Ross   Read      NaN   \n3  Outgoing           NaN             NaN   Sent      NaN   \n4  Incoming  1.610662e+10  Claire Soloman   Read      NaN   \n\n                                                text     attachment  \\\n0                                                NaN  IMG_2805.HEIC   \n1  My dad is currently telling Milo about all the...            NaN   \n2                          🤣🤣 also he got so big!!!             NaN   \n3                  Liked “🤣🤣 also he got so big!!! ”            NaN   \n4                                          HAMBURGER            NaN   \n\n  attachmen_type  \n0          Image  \n1            NaN  \n2            NaN  \n3            NaN  \n4            NaN  ",
      "text/html": "<div>\n<style scoped>\n    .dataframe tbody tr th:only-of-type {\n        vertical-align: middle;\n    }\n\n    .dataframe tbody tr th {\n        vertical-align: top;\n    }\n\n    .dataframe thead th {\n        text-align: right;\n    }\n</style>\n<table border=\"1\" class=\"dataframe\">\n  <thead>\n    <tr style=\"text-align: right;\">\n      <th></th>\n      <th>Chat Session</th>\n      <th>message_date</th>\n      <th>Deliver_date</th>\n      <th>read_date</th>\n      <th>service</th>\n      <th>type</th>\n      <th>sender_id</th>\n      <th>sender_name</th>\n      <th>status</th>\n      <th>subject</th>\n      <th>text</th>\n      <th>attachment</th>\n      <th>attachmen_type</th>\n    </tr>\n  </thead>\n  <tbody>\n    <tr>\n      <th>0</th>\n      <td>No Scrubs</td>\n      <td>12/27/19 14:21</td>\n      <td>NaN</td>\n      <td>NaN</td>\n      <td>iMessage</td>\n      <td>Outgoing</td>\n      <td>NaN</td>\n      <td>NaN</td>\n      <td>Sent</td>\n      <td>NaN</td>\n      <td>NaN</td>\n      <td>IMG_2805.HEIC</td>\n      <td>Image</td>\n    </tr>\n    <tr>\n      <th>1</th>\n      <td>No Scrubs</td>\n      <td>12/27/19 14:21</td>\n      <td>NaN</td>\n      <td>NaN</td>\n      <td>iMessage</td>\n      <td>Outgoing</td>\n      <td>NaN</td>\n      <td>NaN</td>\n      <td>Sent</td>\n      <td>NaN</td>\n      <td>My dad is currently telling Milo about all the...</td>\n      <td>NaN</td>\n      <td>NaN</td>\n    </tr>\n    <tr>\n      <th>2</th>\n      <td>No Scrubs</td>\n      <td>12/27/19 14:22</td>\n      <td>NaN</td>\n      <td>12/27/19 14:22</td>\n      <td>iMessage</td>\n      <td>Incoming</td>\n      <td>1.917829e+10</td>\n      <td>Melissa Ross</td>\n      <td>Read</td>\n      <td>NaN</td>\n      <td>🤣🤣 also he got so big!!!</td>\n      <td>NaN</td>\n      <td>NaN</td>\n    </tr>\n    <tr>\n      <th>3</th>\n      <td>No Scrubs</td>\n      <td>12/27/19 14:22</td>\n      <td>NaN</td>\n      <td>NaN</td>\n      <td>iMessage</td>\n      <td>Outgoing</td>\n      <td>NaN</td>\n      <td>NaN</td>\n      <td>Sent</td>\n      <td>NaN</td>\n      <td>Liked “🤣🤣 also he got so big!!! ”</td>\n      <td>NaN</td>\n      <td>NaN</td>\n    </tr>\n    <tr>\n      <th>4</th>\n      <td>No Scrubs</td>\n      <td>12/27/19 14:23</td>\n      <td>NaN</td>\n      <td>12/27/19 14:23</td>\n      <td>iMessage</td>\n      <td>Incoming</td>\n      <td>1.610662e+10</td>\n      <td>Claire Soloman</td>\n      <td>Read</td>\n      <td>NaN</td>\n      <td>HAMBURGER</td>\n      <td>NaN</td>\n      <td>NaN</td>\n    </tr>\n  </tbody>\n</table>\n</div>"
     },
     "metadata": {},
     "execution_count": 38
    }
   ],
   "source": [
    "messages = pd.read_csv('messages_no_scrubs.csv')\n",
    "messages.head()"
   ]
  },
  {
   "cell_type": "markdown",
   "metadata": {},
   "source": [
    "## Clean Data"
   ]
  },
  {
   "cell_type": "code",
   "execution_count": 75,
   "metadata": {},
   "outputs": [],
   "source": [
    "# my messages don't have sender names\n",
    "messages.sender_name = messages.sender_name.fillna('Sara Riker')\n",
    "\n",
    "#Images show as null in text\n",
    "messages['message'] = np.where(messages[\"text\"].isnull(), messages[\"attachmen_type\"], messages[\"text\"] )\n",
    "\n",
    "#tapbacks\n",
    "tapbacks = ['Liked', 'Loved', 'Laughed', 'Emphasized', 'Disliked']\n",
    "messages['tapback'] = np.where(messages['message'].str.split().str[0].isin(tapbacks), messages['message'].str.split().str[0], \"\")\n",
    "messages['message'] = np.where(messages['message'].str.split().str[0].isin(tapbacks), messages['message'].str.split().str[0], messages['message'])\n",
    "messages['date'] = messages['message_date'].str.split().str[0]\n",
    "messages['time'] = messages['message_date'].str.split().str[1]\n",
    "\n",
    "# Emojis\n",
    "#messages['emoji'] = messages_final['message'].apply(lambda x: emojis.get(x))\n",
    "\n",
    "def split_count(text):\n",
    "\n",
    "    emoji_list = []\n",
    "    data = regex.findall(r'\\X', text)\n",
    "    for word in data:\n",
    "        if any(char in emoji.UNICODE_EMOJI for char in word):\n",
    "            emoji_list.append(word)\n",
    "\n",
    "    return emoji_list\n",
    "\n",
    "messages[\"emoji\"] = messages_final[\"message\"].apply(split_count)\n",
    "\n",
    "#only columns I care about \n",
    "messages_final = messages[['date', 'time', 'sender_name', 'message', 'tapback', 'emoji']]\n"
   ]
  },
  {
   "cell_type": "code",
   "execution_count": 76,
   "metadata": {},
   "outputs": [
    {
     "output_type": "execute_result",
     "data": {
      "text/plain": "       date   time     sender_name  \\\n0  12/27/19  14:21      Sara Riker   \n1  12/27/19  14:21      Sara Riker   \n2  12/27/19  14:22    Melissa Ross   \n3  12/27/19  14:22      Sara Riker   \n4  12/27/19  14:23  Claire Soloman   \n\n                                             message tapback   emoji  \n0                                              Image              []  \n1  My dad is currently telling Milo about all the...             [😂]  \n2                          🤣🤣 also he got so big!!!           [🤣, 🤣]  \n3                                              Liked   Liked      []  \n4                                          HAMBURGER              []  ",
      "text/html": "<div>\n<style scoped>\n    .dataframe tbody tr th:only-of-type {\n        vertical-align: middle;\n    }\n\n    .dataframe tbody tr th {\n        vertical-align: top;\n    }\n\n    .dataframe thead th {\n        text-align: right;\n    }\n</style>\n<table border=\"1\" class=\"dataframe\">\n  <thead>\n    <tr style=\"text-align: right;\">\n      <th></th>\n      <th>date</th>\n      <th>time</th>\n      <th>sender_name</th>\n      <th>message</th>\n      <th>tapback</th>\n      <th>emoji</th>\n    </tr>\n  </thead>\n  <tbody>\n    <tr>\n      <th>0</th>\n      <td>12/27/19</td>\n      <td>14:21</td>\n      <td>Sara Riker</td>\n      <td>Image</td>\n      <td></td>\n      <td>[]</td>\n    </tr>\n    <tr>\n      <th>1</th>\n      <td>12/27/19</td>\n      <td>14:21</td>\n      <td>Sara Riker</td>\n      <td>My dad is currently telling Milo about all the...</td>\n      <td></td>\n      <td>[😂]</td>\n    </tr>\n    <tr>\n      <th>2</th>\n      <td>12/27/19</td>\n      <td>14:22</td>\n      <td>Melissa Ross</td>\n      <td>🤣🤣 also he got so big!!!</td>\n      <td></td>\n      <td>[🤣, 🤣]</td>\n    </tr>\n    <tr>\n      <th>3</th>\n      <td>12/27/19</td>\n      <td>14:22</td>\n      <td>Sara Riker</td>\n      <td>Liked</td>\n      <td>Liked</td>\n      <td>[]</td>\n    </tr>\n    <tr>\n      <th>4</th>\n      <td>12/27/19</td>\n      <td>14:23</td>\n      <td>Claire Soloman</td>\n      <td>HAMBURGER</td>\n      <td></td>\n      <td>[]</td>\n    </tr>\n  </tbody>\n</table>\n</div>"
     },
     "metadata": {},
     "execution_count": 76
    }
   ],
   "source": [
    "messages_final.head()"
   ]
  },
  {
   "cell_type": "code",
   "execution_count": 74,
   "metadata": {},
   "outputs": [],
   "source": [
    "\n",
    "\n",
    "total_messages = messages_final.shape[0]\n",
    "media_messages = messages_final[messages_final['message'] == '<Media omitted>'].shape[0]\n",
    "messages_final[\"emoji_2\"] = messages_final[\"message\"].apply(split_count)\n",
    "emojis = sum(messages_final['emoji_2'].str.len())\n",
    "URLPATTERN = r'(https?://\\S+)'\n",
    "#df['urlcount'] = messages_final.message.apply(lambda x: re.findall(URLPATTERN, x)).str.len()\n",
    "#links = np.sum(messages_final.urlcount)"
   ]
  },
  {
   "cell_type": "markdown",
   "metadata": {},
   "source": [
    "# Emojis"
   ]
  },
  {
   "cell_type": "code",
   "execution_count": 90,
   "metadata": {},
   "outputs": [
    {
     "output_type": "execute_result",
     "data": {
      "text/plain": "     emoji  count\n0        😂    282\n1       ❤️    247\n2        🤣    184\n3     🤷‍♀️     97\n4    🤦🏼‍♀️     84\n..     ...    ...\n112      💙      1\n113      🦃      1\n114      🤗      1\n115      🎁      1\n116      🎄      1\n\n[117 rows x 2 columns]",
      "text/html": "<div>\n<style scoped>\n    .dataframe tbody tr th:only-of-type {\n        vertical-align: middle;\n    }\n\n    .dataframe tbody tr th {\n        vertical-align: top;\n    }\n\n    .dataframe thead th {\n        text-align: right;\n    }\n</style>\n<table border=\"1\" class=\"dataframe\">\n  <thead>\n    <tr style=\"text-align: right;\">\n      <th></th>\n      <th>emoji</th>\n      <th>count</th>\n    </tr>\n  </thead>\n  <tbody>\n    <tr>\n      <th>0</th>\n      <td>😂</td>\n      <td>282</td>\n    </tr>\n    <tr>\n      <th>1</th>\n      <td>❤️</td>\n      <td>247</td>\n    </tr>\n    <tr>\n      <th>2</th>\n      <td>🤣</td>\n      <td>184</td>\n    </tr>\n    <tr>\n      <th>3</th>\n      <td>🤷‍♀️</td>\n      <td>97</td>\n    </tr>\n    <tr>\n      <th>4</th>\n      <td>🤦🏼‍♀️</td>\n      <td>84</td>\n    </tr>\n    <tr>\n      <th>...</th>\n      <td>...</td>\n      <td>...</td>\n    </tr>\n    <tr>\n      <th>112</th>\n      <td>💙</td>\n      <td>1</td>\n    </tr>\n    <tr>\n      <th>113</th>\n      <td>🦃</td>\n      <td>1</td>\n    </tr>\n    <tr>\n      <th>114</th>\n      <td>🤗</td>\n      <td>1</td>\n    </tr>\n    <tr>\n      <th>115</th>\n      <td>🎁</td>\n      <td>1</td>\n    </tr>\n    <tr>\n      <th>116</th>\n      <td>🎄</td>\n      <td>1</td>\n    </tr>\n  </tbody>\n</table>\n<p>117 rows × 2 columns</p>\n</div>"
     },
     "metadata": {},
     "execution_count": 90
    }
   ],
   "source": [
    "total_emojis_list = list([a for b in messages_final.emoji for a in b])\n",
    "emoji_dict = dict(collections.Counter(total_emojis_list))\n",
    "emoji_dict = sorted(emoji_dict.items(), key=lambda x: x[1], reverse=True)\n",
    "\n",
    "emoji_df = pd.DataFrame(emoji_dict, columns=['emoji', 'count'])\n",
    "emoji_df"
   ]
  },
  {
   "cell_type": "code",
   "execution_count": 95,
   "metadata": {},
   "outputs": [
    {
     "output_type": "display_data",
     "data": {
      "application/vnd.plotly.v1+json": {
       "config": {
        "plotlyServerURL": "https://plot.ly"
       },
       "data": [
        {
         "domain": {
          "x": [
           0,
           1
          ],
          "y": [
           0,
           1
          ]
         },
         "hovertemplate": "emoji=%{label}<br>count=%{value}<extra></extra>",
         "labels": [
          "😂",
          "❤️",
          "🤣",
          "🤷‍♀️",
          "🤦🏼‍♀️",
          "💕",
          "🙄",
          "🤷🏼‍♀️",
          "😬",
          "🤷🏻‍♀️",
          "😩",
          "😭",
          "🎉",
          "🤦🏻‍♀️",
          "💪",
          "😳",
          "😘",
          "🤯",
          "😜",
          "🥰",
          "👏🏻",
          "😢",
          "😍",
          "😞",
          "🤔",
          "👍🏼",
          "🙃",
          "😉",
          "😅",
          "💞",
          "🌈",
          "🤢",
          "🙏🏼",
          "🙉",
          "🧐",
          "😷",
          "😫",
          "🚀",
          "🙈",
          "🤞🏼",
          "🙁",
          "😊",
          "🙌",
          "✌🏼",
          "💪🏼",
          "☹️",
          "💩",
          "💘",
          "👶🏻",
          "🙋🏼‍♀️",
          "🤪",
          "😡",
          "🌷",
          "🌸",
          "☀️",
          "🥋",
          "😔",
          "😓",
          "😵",
          "💗",
          "😒",
          "🦠",
          "😧",
          "👀",
          "😥",
          "😕",
          "🔥",
          "😟",
          "🌺",
          "😠",
          "👠",
          "🤮",
          "🚊",
          "🤑",
          "😱",
          "💸",
          "🥂",
          "😐",
          "👎",
          "👌🏻",
          "🐍",
          "🤓",
          "🎊",
          "👍",
          "🤞",
          "🤰",
          "🌻",
          "🌼",
          "💐",
          "🌹",
          "👍🏻",
          "🎶",
          "🎈",
          "😎",
          "🍷",
          "🚽",
          "🙂",
          "💁🏻‍♀️",
          "🐎",
          "😀",
          "🍕",
          "💖",
          "😋",
          "😑",
          "🎵",
          "🐶",
          "✅",
          "✈️",
          "🥵",
          "🤞🏻",
          "😝",
          "🥴",
          "💙",
          "🦃",
          "🤗",
          "🎁",
          "🎄"
         ],
         "legendgroup": "",
         "name": "",
         "showlegend": true,
         "textinfo": "percent+label",
         "textposition": "inside",
         "type": "pie",
         "values": [
          282,
          247,
          184,
          97,
          84,
          83,
          78,
          62,
          53,
          51,
          41,
          19,
          16,
          16,
          16,
          15,
          14,
          13,
          11,
          9,
          8,
          8,
          7,
          7,
          7,
          7,
          7,
          6,
          6,
          6,
          6,
          5,
          5,
          5,
          5,
          5,
          5,
          5,
          4,
          4,
          4,
          4,
          4,
          4,
          4,
          4,
          4,
          4,
          3,
          3,
          3,
          3,
          3,
          3,
          3,
          3,
          3,
          3,
          3,
          3,
          2,
          2,
          2,
          2,
          2,
          2,
          2,
          2,
          2,
          2,
          2,
          2,
          2,
          2,
          2,
          2,
          1,
          1,
          1,
          1,
          1,
          1,
          1,
          1,
          1,
          1,
          1,
          1,
          1,
          1,
          1,
          1,
          1,
          1,
          1,
          1,
          1,
          1,
          1,
          1,
          1,
          1,
          1,
          1,
          1,
          1,
          1,
          1,
          1,
          1,
          1,
          1,
          1,
          1,
          1,
          1,
          1
         ]
        }
       ],
       "layout": {
        "legend": {
         "tracegroupgap": 0
        },
        "template": {
         "data": {
          "bar": [
           {
            "error_x": {
             "color": "#2a3f5f"
            },
            "error_y": {
             "color": "#2a3f5f"
            },
            "marker": {
             "line": {
              "color": "#E5ECF6",
              "width": 0.5
             }
            },
            "type": "bar"
           }
          ],
          "barpolar": [
           {
            "marker": {
             "line": {
              "color": "#E5ECF6",
              "width": 0.5
             }
            },
            "type": "barpolar"
           }
          ],
          "carpet": [
           {
            "aaxis": {
             "endlinecolor": "#2a3f5f",
             "gridcolor": "white",
             "linecolor": "white",
             "minorgridcolor": "white",
             "startlinecolor": "#2a3f5f"
            },
            "baxis": {
             "endlinecolor": "#2a3f5f",
             "gridcolor": "white",
             "linecolor": "white",
             "minorgridcolor": "white",
             "startlinecolor": "#2a3f5f"
            },
            "type": "carpet"
           }
          ],
          "choropleth": [
           {
            "colorbar": {
             "outlinewidth": 0,
             "ticks": ""
            },
            "type": "choropleth"
           }
          ],
          "contour": [
           {
            "colorbar": {
             "outlinewidth": 0,
             "ticks": ""
            },
            "colorscale": [
             [
              0,
              "#0d0887"
             ],
             [
              0.1111111111111111,
              "#46039f"
             ],
             [
              0.2222222222222222,
              "#7201a8"
             ],
             [
              0.3333333333333333,
              "#9c179e"
             ],
             [
              0.4444444444444444,
              "#bd3786"
             ],
             [
              0.5555555555555556,
              "#d8576b"
             ],
             [
              0.6666666666666666,
              "#ed7953"
             ],
             [
              0.7777777777777778,
              "#fb9f3a"
             ],
             [
              0.8888888888888888,
              "#fdca26"
             ],
             [
              1,
              "#f0f921"
             ]
            ],
            "type": "contour"
           }
          ],
          "contourcarpet": [
           {
            "colorbar": {
             "outlinewidth": 0,
             "ticks": ""
            },
            "type": "contourcarpet"
           }
          ],
          "heatmap": [
           {
            "colorbar": {
             "outlinewidth": 0,
             "ticks": ""
            },
            "colorscale": [
             [
              0,
              "#0d0887"
             ],
             [
              0.1111111111111111,
              "#46039f"
             ],
             [
              0.2222222222222222,
              "#7201a8"
             ],
             [
              0.3333333333333333,
              "#9c179e"
             ],
             [
              0.4444444444444444,
              "#bd3786"
             ],
             [
              0.5555555555555556,
              "#d8576b"
             ],
             [
              0.6666666666666666,
              "#ed7953"
             ],
             [
              0.7777777777777778,
              "#fb9f3a"
             ],
             [
              0.8888888888888888,
              "#fdca26"
             ],
             [
              1,
              "#f0f921"
             ]
            ],
            "type": "heatmap"
           }
          ],
          "heatmapgl": [
           {
            "colorbar": {
             "outlinewidth": 0,
             "ticks": ""
            },
            "colorscale": [
             [
              0,
              "#0d0887"
             ],
             [
              0.1111111111111111,
              "#46039f"
             ],
             [
              0.2222222222222222,
              "#7201a8"
             ],
             [
              0.3333333333333333,
              "#9c179e"
             ],
             [
              0.4444444444444444,
              "#bd3786"
             ],
             [
              0.5555555555555556,
              "#d8576b"
             ],
             [
              0.6666666666666666,
              "#ed7953"
             ],
             [
              0.7777777777777778,
              "#fb9f3a"
             ],
             [
              0.8888888888888888,
              "#fdca26"
             ],
             [
              1,
              "#f0f921"
             ]
            ],
            "type": "heatmapgl"
           }
          ],
          "histogram": [
           {
            "marker": {
             "colorbar": {
              "outlinewidth": 0,
              "ticks": ""
             }
            },
            "type": "histogram"
           }
          ],
          "histogram2d": [
           {
            "colorbar": {
             "outlinewidth": 0,
             "ticks": ""
            },
            "colorscale": [
             [
              0,
              "#0d0887"
             ],
             [
              0.1111111111111111,
              "#46039f"
             ],
             [
              0.2222222222222222,
              "#7201a8"
             ],
             [
              0.3333333333333333,
              "#9c179e"
             ],
             [
              0.4444444444444444,
              "#bd3786"
             ],
             [
              0.5555555555555556,
              "#d8576b"
             ],
             [
              0.6666666666666666,
              "#ed7953"
             ],
             [
              0.7777777777777778,
              "#fb9f3a"
             ],
             [
              0.8888888888888888,
              "#fdca26"
             ],
             [
              1,
              "#f0f921"
             ]
            ],
            "type": "histogram2d"
           }
          ],
          "histogram2dcontour": [
           {
            "colorbar": {
             "outlinewidth": 0,
             "ticks": ""
            },
            "colorscale": [
             [
              0,
              "#0d0887"
             ],
             [
              0.1111111111111111,
              "#46039f"
             ],
             [
              0.2222222222222222,
              "#7201a8"
             ],
             [
              0.3333333333333333,
              "#9c179e"
             ],
             [
              0.4444444444444444,
              "#bd3786"
             ],
             [
              0.5555555555555556,
              "#d8576b"
             ],
             [
              0.6666666666666666,
              "#ed7953"
             ],
             [
              0.7777777777777778,
              "#fb9f3a"
             ],
             [
              0.8888888888888888,
              "#fdca26"
             ],
             [
              1,
              "#f0f921"
             ]
            ],
            "type": "histogram2dcontour"
           }
          ],
          "mesh3d": [
           {
            "colorbar": {
             "outlinewidth": 0,
             "ticks": ""
            },
            "type": "mesh3d"
           }
          ],
          "parcoords": [
           {
            "line": {
             "colorbar": {
              "outlinewidth": 0,
              "ticks": ""
             }
            },
            "type": "parcoords"
           }
          ],
          "pie": [
           {
            "automargin": true,
            "type": "pie"
           }
          ],
          "scatter": [
           {
            "marker": {
             "colorbar": {
              "outlinewidth": 0,
              "ticks": ""
             }
            },
            "type": "scatter"
           }
          ],
          "scatter3d": [
           {
            "line": {
             "colorbar": {
              "outlinewidth": 0,
              "ticks": ""
             }
            },
            "marker": {
             "colorbar": {
              "outlinewidth": 0,
              "ticks": ""
             }
            },
            "type": "scatter3d"
           }
          ],
          "scattercarpet": [
           {
            "marker": {
             "colorbar": {
              "outlinewidth": 0,
              "ticks": ""
             }
            },
            "type": "scattercarpet"
           }
          ],
          "scattergeo": [
           {
            "marker": {
             "colorbar": {
              "outlinewidth": 0,
              "ticks": ""
             }
            },
            "type": "scattergeo"
           }
          ],
          "scattergl": [
           {
            "marker": {
             "colorbar": {
              "outlinewidth": 0,
              "ticks": ""
             }
            },
            "type": "scattergl"
           }
          ],
          "scattermapbox": [
           {
            "marker": {
             "colorbar": {
              "outlinewidth": 0,
              "ticks": ""
             }
            },
            "type": "scattermapbox"
           }
          ],
          "scatterpolar": [
           {
            "marker": {
             "colorbar": {
              "outlinewidth": 0,
              "ticks": ""
             }
            },
            "type": "scatterpolar"
           }
          ],
          "scatterpolargl": [
           {
            "marker": {
             "colorbar": {
              "outlinewidth": 0,
              "ticks": ""
             }
            },
            "type": "scatterpolargl"
           }
          ],
          "scatterternary": [
           {
            "marker": {
             "colorbar": {
              "outlinewidth": 0,
              "ticks": ""
             }
            },
            "type": "scatterternary"
           }
          ],
          "surface": [
           {
            "colorbar": {
             "outlinewidth": 0,
             "ticks": ""
            },
            "colorscale": [
             [
              0,
              "#0d0887"
             ],
             [
              0.1111111111111111,
              "#46039f"
             ],
             [
              0.2222222222222222,
              "#7201a8"
             ],
             [
              0.3333333333333333,
              "#9c179e"
             ],
             [
              0.4444444444444444,
              "#bd3786"
             ],
             [
              0.5555555555555556,
              "#d8576b"
             ],
             [
              0.6666666666666666,
              "#ed7953"
             ],
             [
              0.7777777777777778,
              "#fb9f3a"
             ],
             [
              0.8888888888888888,
              "#fdca26"
             ],
             [
              1,
              "#f0f921"
             ]
            ],
            "type": "surface"
           }
          ],
          "table": [
           {
            "cells": {
             "fill": {
              "color": "#EBF0F8"
             },
             "line": {
              "color": "white"
             }
            },
            "header": {
             "fill": {
              "color": "#C8D4E3"
             },
             "line": {
              "color": "white"
             }
            },
            "type": "table"
           }
          ]
         },
         "layout": {
          "annotationdefaults": {
           "arrowcolor": "#2a3f5f",
           "arrowhead": 0,
           "arrowwidth": 1
          },
          "autotypenumbers": "strict",
          "coloraxis": {
           "colorbar": {
            "outlinewidth": 0,
            "ticks": ""
           }
          },
          "colorscale": {
           "diverging": [
            [
             0,
             "#8e0152"
            ],
            [
             0.1,
             "#c51b7d"
            ],
            [
             0.2,
             "#de77ae"
            ],
            [
             0.3,
             "#f1b6da"
            ],
            [
             0.4,
             "#fde0ef"
            ],
            [
             0.5,
             "#f7f7f7"
            ],
            [
             0.6,
             "#e6f5d0"
            ],
            [
             0.7,
             "#b8e186"
            ],
            [
             0.8,
             "#7fbc41"
            ],
            [
             0.9,
             "#4d9221"
            ],
            [
             1,
             "#276419"
            ]
           ],
           "sequential": [
            [
             0,
             "#0d0887"
            ],
            [
             0.1111111111111111,
             "#46039f"
            ],
            [
             0.2222222222222222,
             "#7201a8"
            ],
            [
             0.3333333333333333,
             "#9c179e"
            ],
            [
             0.4444444444444444,
             "#bd3786"
            ],
            [
             0.5555555555555556,
             "#d8576b"
            ],
            [
             0.6666666666666666,
             "#ed7953"
            ],
            [
             0.7777777777777778,
             "#fb9f3a"
            ],
            [
             0.8888888888888888,
             "#fdca26"
            ],
            [
             1,
             "#f0f921"
            ]
           ],
           "sequentialminus": [
            [
             0,
             "#0d0887"
            ],
            [
             0.1111111111111111,
             "#46039f"
            ],
            [
             0.2222222222222222,
             "#7201a8"
            ],
            [
             0.3333333333333333,
             "#9c179e"
            ],
            [
             0.4444444444444444,
             "#bd3786"
            ],
            [
             0.5555555555555556,
             "#d8576b"
            ],
            [
             0.6666666666666666,
             "#ed7953"
            ],
            [
             0.7777777777777778,
             "#fb9f3a"
            ],
            [
             0.8888888888888888,
             "#fdca26"
            ],
            [
             1,
             "#f0f921"
            ]
           ]
          },
          "colorway": [
           "#636efa",
           "#EF553B",
           "#00cc96",
           "#ab63fa",
           "#FFA15A",
           "#19d3f3",
           "#FF6692",
           "#B6E880",
           "#FF97FF",
           "#FECB52"
          ],
          "font": {
           "color": "#2a3f5f"
          },
          "geo": {
           "bgcolor": "white",
           "lakecolor": "white",
           "landcolor": "#E5ECF6",
           "showlakes": true,
           "showland": true,
           "subunitcolor": "white"
          },
          "hoverlabel": {
           "align": "left"
          },
          "hovermode": "closest",
          "mapbox": {
           "style": "light"
          },
          "paper_bgcolor": "white",
          "plot_bgcolor": "#E5ECF6",
          "polar": {
           "angularaxis": {
            "gridcolor": "white",
            "linecolor": "white",
            "ticks": ""
           },
           "bgcolor": "#E5ECF6",
           "radialaxis": {
            "gridcolor": "white",
            "linecolor": "white",
            "ticks": ""
           }
          },
          "scene": {
           "xaxis": {
            "backgroundcolor": "#E5ECF6",
            "gridcolor": "white",
            "gridwidth": 2,
            "linecolor": "white",
            "showbackground": true,
            "ticks": "",
            "zerolinecolor": "white"
           },
           "yaxis": {
            "backgroundcolor": "#E5ECF6",
            "gridcolor": "white",
            "gridwidth": 2,
            "linecolor": "white",
            "showbackground": true,
            "ticks": "",
            "zerolinecolor": "white"
           },
           "zaxis": {
            "backgroundcolor": "#E5ECF6",
            "gridcolor": "white",
            "gridwidth": 2,
            "linecolor": "white",
            "showbackground": true,
            "ticks": "",
            "zerolinecolor": "white"
           }
          },
          "shapedefaults": {
           "line": {
            "color": "#2a3f5f"
           }
          },
          "ternary": {
           "aaxis": {
            "gridcolor": "white",
            "linecolor": "white",
            "ticks": ""
           },
           "baxis": {
            "gridcolor": "white",
            "linecolor": "white",
            "ticks": ""
           },
           "bgcolor": "#E5ECF6",
           "caxis": {
            "gridcolor": "white",
            "linecolor": "white",
            "ticks": ""
           }
          },
          "title": {
           "x": 0.05
          },
          "xaxis": {
           "automargin": true,
           "gridcolor": "white",
           "linecolor": "white",
           "ticks": "",
           "title": {
            "standoff": 15
           },
           "zerolinecolor": "white",
           "zerolinewidth": 2
          },
          "yaxis": {
           "automargin": true,
           "gridcolor": "white",
           "linecolor": "white",
           "ticks": "",
           "title": {
            "standoff": 15
           },
           "zerolinecolor": "white",
           "zerolinewidth": 2
          }
         }
        },
        "title": {
         "text": "Emoji Distribution"
        }
       }
      }
     },
     "metadata": {}
    }
   ],
   "source": [
    "fig = px.pie(emoji_df, values='count', names='emoji',\n",
    "             title='Emoji Distribution')\n",
    "fig.update_traces(textposition='inside', textinfo='percent+label')\n",
    "fig.show()"
   ]
  }
 ]
}